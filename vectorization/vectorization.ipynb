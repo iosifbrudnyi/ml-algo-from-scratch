{
 "cells": [
  {
   "cell_type": "markdown",
   "id": "65e781ae0f9e8e0",
   "metadata": {},
   "source": [
    "# Vectorization\n",
    "\n",
    "Vectorization - method to accelerate mathematical operations.\n",
    "\n",
    "Vectorization converts algorithms that operate on single values into ones that operate on entire arrays (vectors) at once. This means that instead of using explicit loops to iterate through elements, you can apply functions directly to arrays, which NumPy handles internally using pre-compiled C code for efficiency\n",
    "\n",
    "*TODO*:\n",
    "Add \"from scratch\" implementation of np.vectorize"
   ]
  },
  {
   "cell_type": "code",
   "execution_count": 2,
   "id": "921c016b190343b1",
   "metadata": {
    "ExecuteTime": {
     "end_time": "2024-11-28T19:54:52.785963Z",
     "start_time": "2024-11-28T19:54:52.774726Z"
    }
   },
   "outputs": [],
   "source": [
    "import numpy as np\n",
    "import time"
   ]
  },
  {
   "cell_type": "code",
   "execution_count": 11,
   "id": "5dfc3e6de470ff31",
   "metadata": {},
   "outputs": [],
   "source": [
    "np.random.seed(42)\n",
    "\n",
    "# Creating small arrays to demostrate difference in small array\n",
    "x_small = np.random.rand(10_000)\n",
    "y_small = np.random.rand(10_000)\n",
    "\n",
    "# Creating large arrays to demostrate difference in small array\n",
    "x_large = np.random.rand(100_000_000)\n",
    "y_large = np.random.rand(100_000_000)"
   ]
  },
  {
   "cell_type": "code",
   "execution_count": 8,
   "id": "4478973e",
   "metadata": {},
   "outputs": [],
   "source": [
    "def my_dot(x: np.ndarray, y: np.ndarray) -> float:\n",
    "    sum = 0\n",
    "    for xi, yi in zip(x, y):\n",
    "        sum += xi * yi\n",
    "    \n",
    "    return sum"
   ]
  },
  {
   "cell_type": "markdown",
   "id": "8205279f",
   "metadata": {},
   "source": [
    "## Compare implementations"
   ]
  },
  {
   "cell_type": "markdown",
   "id": "d9ed1929",
   "metadata": {},
   "source": [
    "### Small data"
   ]
  },
  {
   "cell_type": "code",
   "execution_count": 12,
   "id": "6ee2945c",
   "metadata": {},
   "outputs": [
    {
     "name": "stdout",
     "output_type": "stream",
     "text": [
      "Vectorized version duration: 0.80 ms\n",
      "Non-Vectorized version duration: 15.90 ms\n"
     ]
    }
   ],
   "source": [
    "# Capture start time for vectorized version\n",
    "start_time = time.time()\n",
    "np.dot(x_small, y_small)\n",
    "end_time = time.time()\n",
    "print(f\"Vectorized version duration: {1000 * (end_time - start_time):.2f} ms\")\n",
    "\n",
    "# Capture start time for non-vectorized version\n",
    "start_time = time.time()\n",
    "my_dot(x_small, y_small)\n",
    "end_time = time.time()\n",
    "print(f\"Non-Vectorized version duration: {1000 * (end_time - start_time):.2f} ms\")"
   ]
  },
  {
   "cell_type": "markdown",
   "id": "a4b8dbfc",
   "metadata": {},
   "source": [
    "### Large data"
   ]
  },
  {
   "cell_type": "code",
   "execution_count": 13,
   "id": "7cfe5bed",
   "metadata": {},
   "outputs": [
    {
     "name": "stdout",
     "output_type": "stream",
     "text": [
      "Vectorized version duration (large arrays): 203.87 ms\n",
      "Non-Vectorized version duration (large arrays): 29846.21 ms\n"
     ]
    }
   ],
   "source": [
    "# Measure the time for the vectorized version on large arrays\n",
    "start_time = time.time()\n",
    "np.dot(x_large, y_large)\n",
    "end_time = time.time()\n",
    "print(f\"Vectorized version duration (large arrays): {1000 * (end_time - start_time):.2f} ms\")\n",
    "\n",
    "# Measure the time for the non-vectorized version on large arrays\n",
    "start_time = time.time()\n",
    "my_dot(x_large, y_large)\n",
    "end_time = time.time()\n",
    "print(f\"Non-Vectorized version duration (large arrays): {1000 * (end_time - start_time):.2f} ms\")\n"
   ]
  }
 ],
 "metadata": {
  "kernelspec": {
   "display_name": "venv",
   "language": "python",
   "name": "python3"
  },
  "language_info": {
   "codemirror_mode": {
    "name": "ipython",
    "version": 3
   },
   "file_extension": ".py",
   "mimetype": "text/x-python",
   "name": "python",
   "nbconvert_exporter": "python",
   "pygments_lexer": "ipython3",
   "version": "3.12.3"
  }
 },
 "nbformat": 4,
 "nbformat_minor": 5
}
